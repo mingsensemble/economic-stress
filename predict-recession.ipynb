{
 "cells": [
  {
   "cell_type": "markdown",
   "metadata": {},
   "source": [
    "# Economic Stress Scoring Model\n",
    "The goal of this model is to provide early earnings for recession.  I use a negative real GDP growth rate as a proxy for the recession.\n",
    "\n",
    "## Data Assumptions\n",
    "This model uses a LSTM neural network model to predict the probability that a month has negative real GDP growth rate.  The model uses macroeconomic data from Federal Reserve St. Louis.  Recession happens so rarely that we would like to use history as long as possible.\n",
    "\n",
    "Because the Fed only releases quarterly real GDP growth, an interpolation of the data is applied: When a quarter suffers negative growth, we assume all three months suffer negative growth.  This interpolation allows us to utilize monthly data from June 1976 to train our neural network."
   ]
  },
  {
   "cell_type": "markdown",
   "metadata": {},
   "source": [
    "The following variables are used for prediction:\n",
    "* **Unemployment Rate**\n",
    "* **Unemployment Rate: Women**\n",
    "* **Unemployment Rate: Aged 15-64: All Persons for the United States**\n",
    "* **Unemployment Rate: 20 years and over, Black or African American Men**\n",
    "* **Civilian Labor Force Participation Rate**\n",
    "* **Civilian Labor Force Participation Rate: 25 to 54 years**\n",
    "* **Civilian Labor Force Participation Rate: Women**\n",
    "* **Civilian Unemployment Rate**\n",
    "* **1-Year Treasury Constant Maturity Rate**\n",
    "* **2-Year Treasury Constant Maturity Rate**\n",
    "* **5-Year Treasury Constant Maturity Rate**\n",
    "* **10-Year Treasury Constant Maturity Rate**\n",
    "* **Moody's Seasoned Baa Corporate Bond Yield Relative to Yield on 10-Year Treasury Constant Maturity**\n",
    "* **Moody's Seasoned Aaa Corporate Bond Yield Relative to Yield on 10-Year Treasury Constant Maturity**\n",
    "* **Federal Funds Rate**"
   ]
  },
  {
   "cell_type": "code",
   "execution_count": 1,
   "metadata": {},
   "outputs": [],
   "source": [
    "import pandas as pd\n",
    "import numpy as np\n",
    "pd.core.common.is_list_like = pd.api.types.is_list_like\n",
    "import pandas_datareader.data as web\n",
    "import datetime\n",
    "start = datetime.datetime(1976, 6, 1)\n",
    "end = datetime.datetime(2018, 8, 31)\n",
    "\n",
    "# quarterly data\n",
    "gdp = web.DataReader('A191RL1Q225SBEA', 'fred', start, end)\n",
    "np.median(gdp)\n",
    "\n",
    "# monthly covariates\n",
    "sample = web.DataReader(\n",
    "    [\n",
    "    'UNRATE', 'LNS14000002', 'CIVPART', 'LNS11300060', 'LNU01300002',\n",
    "    'UNEMPLOY', 'GS5', 'BAA10YM', 'AAA10YM', 'GS1', \n",
    "    'FEDFUNDS', 'LRUN64TTUSM156N', 'LNS14000031', 'GS10', 'GS2',\n",
    "    ], 'fred', start, end)"
   ]
  },
  {
   "cell_type": "markdown",
   "metadata": {},
   "source": [
    "We use NASDAQ and convert the daily data into volatility measured by the coefficient of variation."
   ]
  },
  {
   "cell_type": "code",
   "execution_count": 2,
   "metadata": {},
   "outputs": [],
   "source": [
    "# daily data\n",
    "nasdaq = web.DataReader('NASDAQCOM', 'fred', start, end)\n",
    "\n",
    "nasdaq['month'] = nasdaq.index.month\n",
    "nasdaq['year'] = nasdaq.index.year\n",
    "mu = nasdaq.groupby(['year', 'month']).aggregate(np.mean)\n",
    "sigma = nasdaq.groupby(['year', 'month']).aggregate(np.std)"
   ]
  },
  {
   "cell_type": "code",
   "execution_count": 3,
   "metadata": {},
   "outputs": [],
   "source": [
    "mon_nasdaq = mu.join(sigma, lsuffix = '_mean', rsuffix = '_std')\n",
    "mon_nasdaq['nasdaq_vol'] = mon_nasdaq['NASDAQCOM_std']/mon_nasdaq['NASDAQCOM_mean'] * 100\n",
    "mon_nasdaq.describe()\n",
    "mon_nasdaq.index = pd.to_datetime(mon_nasdaq.index.map(lambda x: \"-\".join([str(x[0]), str(x[1]), \"1\"])))"
   ]
  },
  {
   "cell_type": "code",
   "execution_count": 4,
   "metadata": {},
   "outputs": [
    {
     "data": {
      "text/html": [
       "<div>\n",
       "<style scoped>\n",
       "    .dataframe tbody tr th:only-of-type {\n",
       "        vertical-align: middle;\n",
       "    }\n",
       "\n",
       "    .dataframe tbody tr th {\n",
       "        vertical-align: top;\n",
       "    }\n",
       "\n",
       "    .dataframe thead th {\n",
       "        text-align: right;\n",
       "    }\n",
       "</style>\n",
       "<table border=\"1\" class=\"dataframe\">\n",
       "  <thead>\n",
       "    <tr style=\"text-align: right;\">\n",
       "      <th></th>\n",
       "      <th>UNRATE</th>\n",
       "      <th>LNS14000002</th>\n",
       "      <th>CIVPART</th>\n",
       "      <th>LNS11300060</th>\n",
       "      <th>LNU01300002</th>\n",
       "      <th>UNEMPLOY</th>\n",
       "      <th>GS5</th>\n",
       "      <th>BAA10YM</th>\n",
       "      <th>AAA10YM</th>\n",
       "      <th>GS1</th>\n",
       "      <th>FEDFUNDS</th>\n",
       "      <th>LRUN64TTUSM156N</th>\n",
       "      <th>LNS14000031</th>\n",
       "      <th>GS10</th>\n",
       "      <th>GS2</th>\n",
       "      <th>nasdaq_vol</th>\n",
       "    </tr>\n",
       "  </thead>\n",
       "  <tbody>\n",
       "    <tr>\n",
       "      <th>count</th>\n",
       "      <td>507.000000</td>\n",
       "      <td>507.000000</td>\n",
       "      <td>507.000000</td>\n",
       "      <td>507.000000</td>\n",
       "      <td>507.000000</td>\n",
       "      <td>507.000000</td>\n",
       "      <td>507.000000</td>\n",
       "      <td>507.000000</td>\n",
       "      <td>507.000000</td>\n",
       "      <td>507.000000</td>\n",
       "      <td>507.000000</td>\n",
       "      <td>507.000000</td>\n",
       "      <td>507.000000</td>\n",
       "      <td>507.000000</td>\n",
       "      <td>507.000000</td>\n",
       "      <td>507.000000</td>\n",
       "    </tr>\n",
       "    <tr>\n",
       "      <th>mean</th>\n",
       "      <td>6.308284</td>\n",
       "      <td>6.277909</td>\n",
       "      <td>65.110059</td>\n",
       "      <td>81.866075</td>\n",
       "      <td>56.771006</td>\n",
       "      <td>8390.021696</td>\n",
       "      <td>5.892544</td>\n",
       "      <td>2.248501</td>\n",
       "      <td>1.170355</td>\n",
       "      <td>5.066154</td>\n",
       "      <td>5.007554</td>\n",
       "      <td>6.392346</td>\n",
       "      <td>11.021893</td>\n",
       "      <td>6.336903</td>\n",
       "      <td>5.377258</td>\n",
       "      <td>2.051064</td>\n",
       "    </tr>\n",
       "    <tr>\n",
       "      <th>std</th>\n",
       "      <td>1.592190</td>\n",
       "      <td>1.495403</td>\n",
       "      <td>1.561821</td>\n",
       "      <td>2.129511</td>\n",
       "      <td>3.199056</td>\n",
       "      <td>2232.851139</td>\n",
       "      <td>3.492723</td>\n",
       "      <td>0.731986</td>\n",
       "      <td>0.559942</td>\n",
       "      <td>3.827940</td>\n",
       "      <td>4.071974</td>\n",
       "      <td>1.654747</td>\n",
       "      <td>3.128262</td>\n",
       "      <td>3.216947</td>\n",
       "      <td>3.775928</td>\n",
       "      <td>1.460727</td>\n",
       "    </tr>\n",
       "    <tr>\n",
       "      <th>min</th>\n",
       "      <td>3.800000</td>\n",
       "      <td>3.600000</td>\n",
       "      <td>61.500000</td>\n",
       "      <td>74.900000</td>\n",
       "      <td>47.200000</td>\n",
       "      <td>5481.000000</td>\n",
       "      <td>0.620000</td>\n",
       "      <td>0.930000</td>\n",
       "      <td>-0.170000</td>\n",
       "      <td>0.100000</td>\n",
       "      <td>0.070000</td>\n",
       "      <td>3.599570</td>\n",
       "      <td>5.900000</td>\n",
       "      <td>1.500000</td>\n",
       "      <td>0.210000</td>\n",
       "      <td>0.337075</td>\n",
       "    </tr>\n",
       "    <tr>\n",
       "      <th>25%</th>\n",
       "      <td>5.100000</td>\n",
       "      <td>5.100000</td>\n",
       "      <td>63.750000</td>\n",
       "      <td>81.000000</td>\n",
       "      <td>55.800000</td>\n",
       "      <td>6845.000000</td>\n",
       "      <td>2.875000</td>\n",
       "      <td>1.710000</td>\n",
       "      <td>0.780000</td>\n",
       "      <td>1.515000</td>\n",
       "      <td>1.260000</td>\n",
       "      <td>5.156618</td>\n",
       "      <td>8.800000</td>\n",
       "      <td>3.840000</td>\n",
       "      <td>1.910000</td>\n",
       "      <td>1.192290</td>\n",
       "    </tr>\n",
       "    <tr>\n",
       "      <th>50%</th>\n",
       "      <td>5.900000</td>\n",
       "      <td>5.900000</td>\n",
       "      <td>65.700000</td>\n",
       "      <td>82.700000</td>\n",
       "      <td>57.600000</td>\n",
       "      <td>7891.000000</td>\n",
       "      <td>5.780000</td>\n",
       "      <td>2.120000</td>\n",
       "      <td>1.110000</td>\n",
       "      <td>5.100000</td>\n",
       "      <td>5.220000</td>\n",
       "      <td>6.029603</td>\n",
       "      <td>10.400000</td>\n",
       "      <td>5.970000</td>\n",
       "      <td>5.360000</td>\n",
       "      <td>1.672159</td>\n",
       "    </tr>\n",
       "    <tr>\n",
       "      <th>75%</th>\n",
       "      <td>7.300000</td>\n",
       "      <td>7.450000</td>\n",
       "      <td>66.400000</td>\n",
       "      <td>83.400000</td>\n",
       "      <td>59.300000</td>\n",
       "      <td>8934.000000</td>\n",
       "      <td>8.105000</td>\n",
       "      <td>2.715000</td>\n",
       "      <td>1.600000</td>\n",
       "      <td>7.370000</td>\n",
       "      <td>7.255000</td>\n",
       "      <td>7.405182</td>\n",
       "      <td>12.900000</td>\n",
       "      <td>8.360000</td>\n",
       "      <td>7.770000</td>\n",
       "      <td>2.442731</td>\n",
       "    </tr>\n",
       "    <tr>\n",
       "      <th>max</th>\n",
       "      <td>10.800000</td>\n",
       "      <td>10.400000</td>\n",
       "      <td>67.300000</td>\n",
       "      <td>84.600000</td>\n",
       "      <td>60.400000</td>\n",
       "      <td>15352.000000</td>\n",
       "      <td>15.930000</td>\n",
       "      <td>6.010000</td>\n",
       "      <td>2.680000</td>\n",
       "      <td>16.720000</td>\n",
       "      <td>19.100000</td>\n",
       "      <td>11.591802</td>\n",
       "      <td>20.700000</td>\n",
       "      <td>15.320000</td>\n",
       "      <td>16.460000</td>\n",
       "      <td>15.973536</td>\n",
       "    </tr>\n",
       "  </tbody>\n",
       "</table>\n",
       "</div>"
      ],
      "text/plain": [
       "           UNRATE  LNS14000002     CIVPART  LNS11300060  LNU01300002  \\\n",
       "count  507.000000   507.000000  507.000000   507.000000   507.000000   \n",
       "mean     6.308284     6.277909   65.110059    81.866075    56.771006   \n",
       "std      1.592190     1.495403    1.561821     2.129511     3.199056   \n",
       "min      3.800000     3.600000   61.500000    74.900000    47.200000   \n",
       "25%      5.100000     5.100000   63.750000    81.000000    55.800000   \n",
       "50%      5.900000     5.900000   65.700000    82.700000    57.600000   \n",
       "75%      7.300000     7.450000   66.400000    83.400000    59.300000   \n",
       "max     10.800000    10.400000   67.300000    84.600000    60.400000   \n",
       "\n",
       "           UNEMPLOY         GS5     BAA10YM     AAA10YM         GS1  \\\n",
       "count    507.000000  507.000000  507.000000  507.000000  507.000000   \n",
       "mean    8390.021696    5.892544    2.248501    1.170355    5.066154   \n",
       "std     2232.851139    3.492723    0.731986    0.559942    3.827940   \n",
       "min     5481.000000    0.620000    0.930000   -0.170000    0.100000   \n",
       "25%     6845.000000    2.875000    1.710000    0.780000    1.515000   \n",
       "50%     7891.000000    5.780000    2.120000    1.110000    5.100000   \n",
       "75%     8934.000000    8.105000    2.715000    1.600000    7.370000   \n",
       "max    15352.000000   15.930000    6.010000    2.680000   16.720000   \n",
       "\n",
       "         FEDFUNDS  LRUN64TTUSM156N  LNS14000031        GS10         GS2  \\\n",
       "count  507.000000       507.000000   507.000000  507.000000  507.000000   \n",
       "mean     5.007554         6.392346    11.021893    6.336903    5.377258   \n",
       "std      4.071974         1.654747     3.128262    3.216947    3.775928   \n",
       "min      0.070000         3.599570     5.900000    1.500000    0.210000   \n",
       "25%      1.260000         5.156618     8.800000    3.840000    1.910000   \n",
       "50%      5.220000         6.029603    10.400000    5.970000    5.360000   \n",
       "75%      7.255000         7.405182    12.900000    8.360000    7.770000   \n",
       "max     19.100000        11.591802    20.700000   15.320000   16.460000   \n",
       "\n",
       "       nasdaq_vol  \n",
       "count  507.000000  \n",
       "mean     2.051064  \n",
       "std      1.460727  \n",
       "min      0.337075  \n",
       "25%      1.192290  \n",
       "50%      1.672159  \n",
       "75%      2.442731  \n",
       "max     15.973536  "
      ]
     },
     "execution_count": 4,
     "metadata": {},
     "output_type": "execute_result"
    }
   ],
   "source": [
    "sample = sample.join(mon_nasdaq['nasdaq_vol'])\n",
    "sample.describe()"
   ]
  },
  {
   "cell_type": "markdown",
   "metadata": {},
   "source": [
    "## Data Preprocessing"
   ]
  },
  {
   "cell_type": "code",
   "execution_count": 5,
   "metadata": {},
   "outputs": [],
   "source": [
    "# data preprocessing\n",
    "data = sample.join(gdp.applymap(lambda x: 1 if x < 0  else 0)) # define stressed as gdp growth rate less than 0%\n",
    "# we need to do this because gdp growth rate is quarterly data\n",
    "mon_gdp = data['A191RL1Q225SBEA'].values\n",
    "mon_gdp[0] = 0\n",
    "\n",
    "# impute quarterly gdp growth into monthly level\n",
    "import math\n",
    "for i in range(1, len(mon_gdp)):\n",
    "    if math.isnan(mon_gdp[i]):\n",
    "        mon_gdp[i] = mon_gdp[i-1]\n",
    "\n",
    "data['gdp_growth'] = mon_gdp\n",
    "data.drop('A191RL1Q225SBEA', axis = 1, inplace = True)"
   ]
  },
  {
   "cell_type": "code",
   "execution_count": 6,
   "metadata": {},
   "outputs": [],
   "source": [
    "from sklearn.preprocessing import MinMaxScaler, StandardScaler\n",
    "scaler = MinMaxScaler()\n",
    "df = np.concatenate(\n",
    "    [\n",
    "        scaler.fit_transform(data.drop('gdp_growth', axis = 1).values.astype('float32')),\n",
    "        np.array([data.gdp_growth.values.astype('float32')]).T\n",
    "    ], axis = 1\n",
    ")"
   ]
  },
  {
   "cell_type": "code",
   "execution_count": 7,
   "metadata": {},
   "outputs": [],
   "source": [
    "def create_datasets(data, lookback):\n",
    "    sample, target = [], []\n",
    "    for i in range(len(data) - lookback - 1):\n",
    "        d = data[i:(i + lookback - 1)]\n",
    "        sample.append(d)\n",
    "        target.append(data[i + lookback, 16])\n",
    "    return np.array(sample), np.array(target)"
   ]
  },
  {
   "cell_type": "code",
   "execution_count": 8,
   "metadata": {},
   "outputs": [
    {
     "name": "stderr",
     "output_type": "stream",
     "text": [
      "Using TensorFlow backend.\n"
     ]
    }
   ],
   "source": [
    "from keras import layers\n",
    "from keras import models\n",
    "from keras import optimizers"
   ]
  },
  {
   "cell_type": "code",
   "execution_count": 9,
   "metadata": {},
   "outputs": [],
   "source": [
    "sample, target = create_datasets(df, 36)\n",
    "ix = int(np.ceil(0.8 * len(df)))\n",
    "sample_train, target_train = sample[0:ix], target[0:ix]\n",
    "sample_test, target_test = sample[ix:], target[ix:]"
   ]
  },
  {
   "cell_type": "code",
   "execution_count": 10,
   "metadata": {},
   "outputs": [
    {
     "name": "stdout",
     "output_type": "stream",
     "text": [
      "(406, 35, 17)\n",
      "(406,)\n"
     ]
    }
   ],
   "source": [
    "print(sample_train.shape)\n",
    "print(target_train.shape)\n",
    "_epochs = 40 # number of epochs to run through"
   ]
  },
  {
   "cell_type": "code",
   "execution_count": 11,
   "metadata": {},
   "outputs": [
    {
     "data": {
      "text/plain": [
       "(406, 35, 17)"
      ]
     },
     "execution_count": 11,
     "metadata": {},
     "output_type": "execute_result"
    }
   ],
   "source": [
    "sample_train.shape"
   ]
  },
  {
   "cell_type": "markdown",
   "metadata": {},
   "source": [
    "## LSTM Neural Network"
   ]
  },
  {
   "cell_type": "code",
   "execution_count": 12,
   "metadata": {},
   "outputs": [
    {
     "name": "stdout",
     "output_type": "stream",
     "text": [
      "Train on 406 samples, validate on 64 samples\n",
      "Epoch 1/40\n",
      " - 12s - loss: 0.4020 - mean_absolute_error: 0.2037 - val_loss: 0.2319 - val_mean_absolute_error: 0.1362\n",
      "Epoch 2/40\n",
      " - 11s - loss: 0.3563 - mean_absolute_error: 0.1877 - val_loss: 0.2231 - val_mean_absolute_error: 0.1261\n",
      "Epoch 3/40\n",
      " - 11s - loss: 0.3351 - mean_absolute_error: 0.1779 - val_loss: 0.2051 - val_mean_absolute_error: 0.0845\n",
      "Epoch 4/40\n",
      " - 11s - loss: 0.3213 - mean_absolute_error: 0.1672 - val_loss: 0.2217 - val_mean_absolute_error: 0.0594\n",
      "Epoch 5/40\n",
      " - 11s - loss: 0.3247 - mean_absolute_error: 0.1639 - val_loss: 0.2266 - val_mean_absolute_error: 0.1291\n",
      "Epoch 6/40\n",
      " - 11s - loss: 0.3205 - mean_absolute_error: 0.1668 - val_loss: 0.2545 - val_mean_absolute_error: 0.1735\n",
      "Epoch 7/40\n",
      " - 11s - loss: 0.3205 - mean_absolute_error: 0.1628 - val_loss: 0.2452 - val_mean_absolute_error: 0.0514\n",
      "Epoch 8/40\n",
      " - 11s - loss: 0.3161 - mean_absolute_error: 0.1541 - val_loss: 0.2334 - val_mean_absolute_error: 0.1589\n",
      "Epoch 9/40\n",
      " - 11s - loss: 0.3227 - mean_absolute_error: 0.1604 - val_loss: 0.1855 - val_mean_absolute_error: 0.0937\n",
      "Epoch 10/40\n",
      " - 11s - loss: 0.2987 - mean_absolute_error: 0.1544 - val_loss: 0.1875 - val_mean_absolute_error: 0.1063\n",
      "Epoch 11/40\n",
      " - 11s - loss: 0.2883 - mean_absolute_error: 0.1529 - val_loss: 0.1713 - val_mean_absolute_error: 0.0771\n",
      "Epoch 12/40\n",
      " - 11s - loss: 0.2889 - mean_absolute_error: 0.1583 - val_loss: 0.1921 - val_mean_absolute_error: 0.0619\n",
      "Epoch 13/40\n",
      " - 11s - loss: 0.3006 - mean_absolute_error: 0.1471 - val_loss: 0.1748 - val_mean_absolute_error: 0.1099\n",
      "Epoch 14/40\n",
      " - 11s - loss: 0.2655 - mean_absolute_error: 0.1429 - val_loss: 0.1900 - val_mean_absolute_error: 0.0659\n",
      "Epoch 15/40\n",
      " - 11s - loss: 0.2813 - mean_absolute_error: 0.1355 - val_loss: 0.2034 - val_mean_absolute_error: 0.1427\n",
      "Epoch 16/40\n",
      " - 11s - loss: 0.2973 - mean_absolute_error: 0.1475 - val_loss: 0.2035 - val_mean_absolute_error: 0.0575\n",
      "Epoch 17/40\n",
      " - 11s - loss: 0.2791 - mean_absolute_error: 0.1393 - val_loss: 0.1921 - val_mean_absolute_error: 0.0893\n",
      "Epoch 18/40\n",
      " - 11s - loss: 0.2594 - mean_absolute_error: 0.1435 - val_loss: 0.1856 - val_mean_absolute_error: 0.0751\n",
      "Epoch 19/40\n",
      " - 11s - loss: 0.2609 - mean_absolute_error: 0.1337 - val_loss: 0.1902 - val_mean_absolute_error: 0.0640\n",
      "Epoch 20/40\n",
      " - 11s - loss: 0.2518 - mean_absolute_error: 0.1294 - val_loss: 0.2722 - val_mean_absolute_error: 0.0649\n",
      "Epoch 21/40\n",
      " - 11s - loss: 0.2554 - mean_absolute_error: 0.1282 - val_loss: 0.1647 - val_mean_absolute_error: 0.0652\n",
      "Epoch 22/40\n",
      " - 11s - loss: 0.2411 - mean_absolute_error: 0.1306 - val_loss: 0.2265 - val_mean_absolute_error: 0.0716\n",
      "Epoch 23/40\n",
      " - 11s - loss: 0.2367 - mean_absolute_error: 0.1318 - val_loss: 0.2703 - val_mean_absolute_error: 0.0488\n",
      "Epoch 24/40\n",
      " - 10s - loss: 0.2207 - mean_absolute_error: 0.1134 - val_loss: 0.2183 - val_mean_absolute_error: 0.1074\n",
      "Epoch 25/40\n",
      " - 11s - loss: 0.2410 - mean_absolute_error: 0.1138 - val_loss: 0.2000 - val_mean_absolute_error: 0.0596\n",
      "Epoch 26/40\n",
      " - 11s - loss: 0.1926 - mean_absolute_error: 0.1108 - val_loss: 0.2047 - val_mean_absolute_error: 0.0540\n",
      "Epoch 27/40\n",
      " - 11s - loss: 0.2126 - mean_absolute_error: 0.1080 - val_loss: 0.2663 - val_mean_absolute_error: 0.0522\n",
      "Epoch 28/40\n",
      " - 11s - loss: 0.1836 - mean_absolute_error: 0.0965 - val_loss: 0.1817 - val_mean_absolute_error: 0.0778\n",
      "Epoch 29/40\n",
      " - 11s - loss: 0.1768 - mean_absolute_error: 0.0930 - val_loss: 0.2038 - val_mean_absolute_error: 0.0661\n",
      "Epoch 30/40\n",
      " - 11s - loss: 0.1860 - mean_absolute_error: 0.0872 - val_loss: 0.2753 - val_mean_absolute_error: 0.0485\n",
      "Epoch 31/40\n",
      " - 11s - loss: 0.2014 - mean_absolute_error: 0.1053 - val_loss: 0.1838 - val_mean_absolute_error: 0.0979\n",
      "Epoch 32/40\n",
      " - 11s - loss: 0.1759 - mean_absolute_error: 0.0839 - val_loss: 0.2509 - val_mean_absolute_error: 0.0540\n",
      "Epoch 33/40\n",
      " - 10s - loss: 0.1569 - mean_absolute_error: 0.0832 - val_loss: 0.2726 - val_mean_absolute_error: 0.0529\n",
      "Epoch 34/40\n",
      " - 11s - loss: 0.1585 - mean_absolute_error: 0.0780 - val_loss: 0.2637 - val_mean_absolute_error: 0.0874\n",
      "Epoch 35/40\n",
      " - 10s - loss: 0.1725 - mean_absolute_error: 0.0786 - val_loss: 0.2046 - val_mean_absolute_error: 0.0943\n",
      "Epoch 36/40\n",
      " - 11s - loss: 0.1484 - mean_absolute_error: 0.0755 - val_loss: 0.2900 - val_mean_absolute_error: 0.0473\n",
      "Epoch 37/40\n",
      " - 10s - loss: 0.1536 - mean_absolute_error: 0.0725 - val_loss: 0.2252 - val_mean_absolute_error: 0.0808\n",
      "Epoch 38/40\n",
      " - 10s - loss: 0.1660 - mean_absolute_error: 0.0763 - val_loss: 0.2558 - val_mean_absolute_error: 0.0896\n",
      "Epoch 39/40\n",
      " - 11s - loss: 0.1739 - mean_absolute_error: 0.0835 - val_loss: 0.2210 - val_mean_absolute_error: 0.0858\n",
      "Epoch 40/40\n",
      " - 11s - loss: 0.1473 - mean_absolute_error: 0.0663 - val_loss: 0.2141 - val_mean_absolute_error: 0.0617\n"
     ]
    }
   ],
   "source": [
    "from tensorflow import set_random_seed\n",
    "set_random_seed(42)\n",
    "\n",
    "# expect input [samples, time steps, features]\n",
    "# parameters are optimized by grid search\n",
    "model = models.Sequential()\n",
    "model.add(layers.LSTM(64, input_shape = (sample_train.shape[1], sample_train.shape[-1])))\n",
    "model.add(layers.Dense(1, activation = \"sigmoid\"))\n",
    "model.compile(optimizer = optimizers.RMSprop(), loss = \"binary_crossentropy\", metrics = ['mae'])\n",
    "\n",
    "out = model.fit(sample_train, target_train, epochs = _epochs, batch_size = 1, verbose = 2, \n",
    "                validation_data = (sample_test, target_test))"
   ]
  },
  {
   "cell_type": "code",
   "execution_count": 13,
   "metadata": {},
   "outputs": [
    {
     "data": {
      "image/png": "[encoded data removed]",
      "text/plain": [
       "<Figure size 432x288 with 1 Axes>"
      ]
     },
     "metadata": {},
     "output_type": "display_data"
    }
   ],
   "source": [
    "x = range(_epochs)\n",
    "val = out.history['val_mean_absolute_error']\n",
    "tra = out.history['mean_absolute_error']\n",
    "# visualize prediction\n",
    "from matplotlib import pyplot as plt\n",
    "plt.plot(x, tra, 'b', label = 'training')\n",
    "plt.plot(x, val, 'r', label = 'validation')\n",
    "plt.legend()\n",
    "plt.show()\n",
    "# the model is probably overfit after epoch = 6"
   ]
  },
  {
   "cell_type": "code",
   "execution_count": 14,
   "metadata": {},
   "outputs": [
    {
     "name": "stdout",
     "output_type": "stream",
     "text": [
      "Epoch 1/6\n",
      " - 12s - loss: 0.3665 - mean_absolute_error: 0.1840\n",
      "Epoch 2/6\n",
      " - 12s - loss: 0.3296 - mean_absolute_error: 0.1610\n",
      "Epoch 3/6\n",
      " - 12s - loss: 0.3264 - mean_absolute_error: 0.1655\n",
      "Epoch 4/6\n",
      " - 12s - loss: 0.3261 - mean_absolute_error: 0.1536\n",
      "Epoch 5/6\n",
      " - 12s - loss: 0.3062 - mean_absolute_error: 0.1545\n",
      "Epoch 6/6\n",
      " - 12s - loss: 0.3227 - mean_absolute_error: 0.1575\n"
     ]
    }
   ],
   "source": [
    "# recalibrate with the full data\n",
    "from keras.backend import clear_session\n",
    "clear_session()\n",
    "model = models.Sequential()\n",
    "model.add(layers.LSTM(64, input_shape = (sample.shape[1], sample.shape[-1])))\n",
    "model.add(layers.Dense(1, activation = \"sigmoid\"))\n",
    "model.compile(optimizer = optimizers.RMSprop(), loss = \"binary_crossentropy\", metrics = ['mae'])\n",
    "\n",
    "out = model.fit(sample, target, epochs = 6, batch_size = 1, verbose = 2,)"
   ]
  },
  {
   "cell_type": "code",
   "execution_count": 15,
   "metadata": {},
   "outputs": [
    {
     "data": {
      "image/png": "[encoded data removed]",
      "text/plain": [
       "<Figure size 432x288 with 1 Axes>"
      ]
     },
     "metadata": {},
     "output_type": "display_data"
    }
   ],
   "source": [
    "fit = model.predict(sample)\n",
    "d0 = pd.date_range(start, end, freq = 'M')\n",
    "plt.close()\n",
    "plt.plot(d0[:(len(d0) - 37)], fit)\n",
    "plt.axhline(y = 0.5, color = \"grey\")\n",
    "plt.ylabel('Recession Probability')\n",
    "plt.title('Economey Stress Score')\n",
    "plt.show()"
   ]
  },
  {
   "cell_type": "markdown",
   "metadata": {},
   "source": [
    "## LSTM Regulated by Dropouts\n"
   ]
  },
  {
   "cell_type": "code",
   "execution_count": 16,
   "metadata": {},
   "outputs": [
    {
     "name": "stdout",
     "output_type": "stream",
     "text": [
      "Train on 406 samples, validate on 64 samples\n",
      "Epoch 1/40\n",
      " - 13s - loss: 0.4098 - mean_absolute_error: 0.1963 - val_loss: 0.2142 - val_mean_absolute_error: 0.1385\n",
      "Epoch 2/40\n",
      " - 12s - loss: 0.3881 - mean_absolute_error: 0.1856 - val_loss: 0.2334 - val_mean_absolute_error: 0.1669\n",
      "Epoch 3/40\n",
      " - 12s - loss: 0.3662 - mean_absolute_error: 0.1747 - val_loss: 0.2208 - val_mean_absolute_error: 0.1598\n",
      "Epoch 4/40\n",
      " - 12s - loss: 0.3715 - mean_absolute_error: 0.1782 - val_loss: 0.2114 - val_mean_absolute_error: 0.1494\n",
      "Epoch 5/40\n",
      " - 12s - loss: 0.3447 - mean_absolute_error: 0.1760 - val_loss: 0.2006 - val_mean_absolute_error: 0.0875\n",
      "Epoch 6/40\n",
      " - 12s - loss: 0.3474 - mean_absolute_error: 0.1700 - val_loss: 0.1921 - val_mean_absolute_error: 0.0836\n",
      "Epoch 7/40\n",
      " - 12s - loss: 0.3540 - mean_absolute_error: 0.1590 - val_loss: 0.2329 - val_mean_absolute_error: 0.1724\n",
      "Epoch 8/40\n",
      " - 12s - loss: 0.3422 - mean_absolute_error: 0.1687 - val_loss: 0.1939 - val_mean_absolute_error: 0.0832\n",
      "Epoch 9/40\n",
      " - 12s - loss: 0.3326 - mean_absolute_error: 0.1607 - val_loss: 0.2164 - val_mean_absolute_error: 0.0970\n",
      "Epoch 10/40\n",
      " - 12s - loss: 0.3444 - mean_absolute_error: 0.1693 - val_loss: 0.2345 - val_mean_absolute_error: 0.0862\n",
      "Epoch 11/40\n",
      " - 12s - loss: 0.3340 - mean_absolute_error: 0.1715 - val_loss: 0.1937 - val_mean_absolute_error: 0.0601\n",
      "Epoch 12/40\n",
      " - 12s - loss: 0.3060 - mean_absolute_error: 0.1648 - val_loss: 0.2282 - val_mean_absolute_error: 0.0572\n",
      "Epoch 13/40\n",
      " - 12s - loss: 0.3123 - mean_absolute_error: 0.1528 - val_loss: 0.1934 - val_mean_absolute_error: 0.0684\n",
      "Epoch 14/40\n",
      " - 12s - loss: 0.3262 - mean_absolute_error: 0.1613 - val_loss: 0.2175 - val_mean_absolute_error: 0.0628\n",
      "Epoch 15/40\n",
      " - 12s - loss: 0.3203 - mean_absolute_error: 0.1579 - val_loss: 0.2207 - val_mean_absolute_error: 0.0567\n",
      "Epoch 16/40\n",
      " - 12s - loss: 0.3289 - mean_absolute_error: 0.1597 - val_loss: 0.2008 - val_mean_absolute_error: 0.0646\n",
      "Epoch 17/40\n",
      " - 12s - loss: 0.3038 - mean_absolute_error: 0.1563 - val_loss: 0.2150 - val_mean_absolute_error: 0.0649\n",
      "Epoch 18/40\n",
      " - 12s - loss: 0.3174 - mean_absolute_error: 0.1578 - val_loss: 0.1984 - val_mean_absolute_error: 0.0674\n",
      "Epoch 19/40\n",
      " - 12s - loss: 0.3200 - mean_absolute_error: 0.1581 - val_loss: 0.1901 - val_mean_absolute_error: 0.0688\n",
      "Epoch 20/40\n",
      " - 12s - loss: 0.2941 - mean_absolute_error: 0.1487 - val_loss: 0.1965 - val_mean_absolute_error: 0.0628\n",
      "Epoch 21/40\n",
      " - 12s - loss: 0.2809 - mean_absolute_error: 0.1415 - val_loss: 0.2262 - val_mean_absolute_error: 0.0545\n",
      "Epoch 22/40\n",
      " - 12s - loss: 0.3178 - mean_absolute_error: 0.1557 - val_loss: 0.2185 - val_mean_absolute_error: 0.0735\n",
      "Epoch 23/40\n",
      " - 12s - loss: 0.2905 - mean_absolute_error: 0.1521 - val_loss: 0.2026 - val_mean_absolute_error: 0.0585\n",
      "Epoch 24/40\n",
      " - 12s - loss: 0.3111 - mean_absolute_error: 0.1490 - val_loss: 0.1790 - val_mean_absolute_error: 0.0884\n",
      "Epoch 25/40\n",
      " - 12s - loss: 0.2768 - mean_absolute_error: 0.1328 - val_loss: 0.1831 - val_mean_absolute_error: 0.0858\n",
      "Epoch 26/40\n",
      " - 12s - loss: 0.3006 - mean_absolute_error: 0.1507 - val_loss: 0.1927 - val_mean_absolute_error: 0.0649\n",
      "Epoch 27/40\n",
      " - 12s - loss: 0.2851 - mean_absolute_error: 0.1415 - val_loss: 0.1895 - val_mean_absolute_error: 0.0822\n",
      "Epoch 28/40\n",
      " - 12s - loss: 0.2853 - mean_absolute_error: 0.1389 - val_loss: 0.1863 - val_mean_absolute_error: 0.0636\n",
      "Epoch 29/40\n",
      " - 12s - loss: 0.2733 - mean_absolute_error: 0.1456 - val_loss: 0.2142 - val_mean_absolute_error: 0.0534\n",
      "Epoch 30/40\n",
      " - 12s - loss: 0.3011 - mean_absolute_error: 0.1357 - val_loss: 0.1772 - val_mean_absolute_error: 0.0906\n",
      "Epoch 31/40\n",
      " - 12s - loss: 0.2709 - mean_absolute_error: 0.1365 - val_loss: 0.1956 - val_mean_absolute_error: 0.0650\n",
      "Epoch 32/40\n",
      " - 12s - loss: 0.2706 - mean_absolute_error: 0.1382 - val_loss: 0.1910 - val_mean_absolute_error: 0.0603\n",
      "Epoch 33/40\n",
      " - 12s - loss: 0.2710 - mean_absolute_error: 0.1364 - val_loss: 0.1857 - val_mean_absolute_error: 0.0851\n",
      "Epoch 34/40\n",
      " - 12s - loss: 0.2715 - mean_absolute_error: 0.1408 - val_loss: 0.1972 - val_mean_absolute_error: 0.0582\n",
      "Epoch 35/40\n",
      " - 12s - loss: 0.2854 - mean_absolute_error: 0.1309 - val_loss: 0.1682 - val_mean_absolute_error: 0.0668\n",
      "Epoch 36/40\n",
      " - 12s - loss: 0.2559 - mean_absolute_error: 0.1279 - val_loss: 0.1735 - val_mean_absolute_error: 0.0784\n",
      "Epoch 37/40\n",
      " - 12s - loss: 0.2717 - mean_absolute_error: 0.1293 - val_loss: 0.1736 - val_mean_absolute_error: 0.0630\n",
      "Epoch 38/40\n",
      " - 12s - loss: 0.2550 - mean_absolute_error: 0.1297 - val_loss: 0.1981 - val_mean_absolute_error: 0.0547\n",
      "Epoch 39/40\n",
      " - 12s - loss: 0.2497 - mean_absolute_error: 0.1289 - val_loss: 0.2003 - val_mean_absolute_error: 0.0584\n",
      "Epoch 40/40\n",
      " - 12s - loss: 0.2276 - mean_absolute_error: 0.1110 - val_loss: 0.2000 - val_mean_absolute_error: 0.0588\n"
     ]
    }
   ],
   "source": [
    "# model 2: LSTM\n",
    "clear_session()\n",
    "model = models.Sequential()\n",
    "model.add(layers.LSTM(64, dropout = 0.2, recurrent_dropout = 0.1, input_shape = (sample_train.shape[1], sample_train.shape[-1])))\n",
    "model.add(layers.Dense(1, activation = \"sigmoid\"))\n",
    "model.compile(optimizer = optimizers.RMSprop(), loss = \"binary_crossentropy\", metrics = ['mae'])\n",
    "\n",
    "out = model.fit(sample_train, target_train, epochs = _epochs, batch_size = 1, verbose = 2, \n",
    "                validation_data = (sample_test, target_test))"
   ]
  },
  {
   "cell_type": "code",
   "execution_count": 17,
   "metadata": {},
   "outputs": [
    {
     "data": {
      "image/png": "[encoded data removed]",
      "text/plain": [
       "<Figure size 432x288 with 1 Axes>"
      ]
     },
     "metadata": {},
     "output_type": "display_data"
    }
   ],
   "source": [
    "x = range(_epochs)\n",
    "val = out.history['val_mean_absolute_error']\n",
    "tra = out.history['mean_absolute_error']\n",
    "# visualize prediction\n",
    "from matplotlib import pyplot as plt\n",
    "plt.plot(x, tra, 'b', label = 'training')\n",
    "plt.plot(x, val, 'r', label = 'validation')\n",
    "plt.legend()\n",
    "plt.show()"
   ]
  },
  {
   "cell_type": "code",
   "execution_count": 18,
   "metadata": {},
   "outputs": [
    {
     "data": {
      "image/png": "[encoded data removed]",
      "text/plain": [
       "<Figure size 432x288 with 1 Axes>"
      ]
     },
     "metadata": {},
     "output_type": "display_data"
    }
   ],
   "source": [
    "fit = model.predict(sample)\n",
    "d0 = pd.date_range(start, end, freq = 'M')\n",
    "plt.close()\n",
    "plt.plot(d0[:(len(d0) - 37)], fit)\n",
    "plt.axhline(y = 0.5, color = \"grey\")\n",
    "plt.ylabel('Recession Probability')\n",
    "plt.title('Economey Stress Score')\n",
    "plt.show()"
   ]
  },
  {
   "cell_type": "markdown",
   "metadata": {},
   "source": [
    "The model is able to capture the Energy Crisis of 1979, Black Monday 1987, Dot-com Bubble of 2000, and the Financial Crisis of 07-09."
   ]
  }
 ],
 "metadata": {
  "kernelspec": {
   "display_name": "Python 3",
   "language": "python",
   "name": "python3"
  },
  "language_info": {
   "codemirror_mode": {
    "name": "ipython",
    "version": 3
   },
   "file_extension": ".py",
   "mimetype": "text/x-python",
   "name": "python",
   "nbconvert_exporter": "python",
   "pygments_lexer": "ipython3",
   "version": "3.6.2"
  }
 },
 "nbformat": 4,
 "nbformat_minor": 2
}
